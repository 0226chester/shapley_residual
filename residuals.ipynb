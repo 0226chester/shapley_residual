{
 "cells": [
  {
   "cell_type": "code",
   "execution_count": null,
   "id": "3192e9a2-4bb9-4d6c-923c-16648601798b",
   "metadata": {
    "editable": true,
    "slideshow": {
     "slide_type": ""
    },
    "tags": []
   },
   "outputs": [],
   "source": [
    "import pickle\n",
    "import json\n",
    "import numpy as np\n",
    "import pandas as pd\n",
    "from sklearn.preprocessing import StandardScaler\n",
    "from console1 import generate_partition\n",
    "from console1 import NewHypercube\n",
    "from console1 import make_cube_list\n",
    "from console1 import single_subset_norm\n",
    "from console1 import two_subset_norm\n",
    "\n",
    "# F_P = {\n",
    "#     0: [0,1],\n",
    "#     1: [2,3],\n",
    "#     2: [4],\n",
    "#     3: [5],\n",
    "#     4: [6,7,8,9,10],\n",
    "#     5: [11],\n",
    "#     6: [12,13],\n",
    "# }\n",
    "\n",
    "# filepath = 'C:/Users/User/Desktop/folder/pyfile/shap_residual/savedata/combined_CH.pkl'\n",
    "# with open(filepath, 'rb') as f:\n",
    "#     vertex_df = pickle.load(f)\n",
    "\n",
    "# print(vertex_df.shape)\n",
    "# print(vertex_df.iloc[4,6])\n",
    "# vertex_df.iloc[4,6] = 1e-6\n",
    "# print(vertex_df.iloc[4,6])\n",
    "# datalist = make_cube_list(vertex_df, F_P)\n",
    "# pgd_df, r_df, scn_df = single_subset_norm(datalist, F_P)\n",
    "# pgd_df2, r_df2, scn_df2 = two_subset_norm(datalist, F_P)\n"
   ]
  },
  {
   "cell_type": "code",
   "execution_count": null,
   "id": "16342f5f-6466-410f-91d7-8623f34498a5",
   "metadata": {},
   "outputs": [],
   "source": [
    "# a,b,c = generate_partition(F_P)\n",
    "# data = {'null': [0],\n",
    "#  '0': [1],\n",
    "#  '1': [0],\n",
    "#  '2': [0],\n",
    "#  '0, 1': [1],\n",
    "#  '0, 2': [1],\n",
    "#  '1, 2': [2],\n",
    "#  '0, 1, 2': [3],\n",
    "#  }\n",
    "# import pandas as pd\n",
    "# data = pd.DataFrame(data)\n",
    "# data.columns = [(), (0,), (1,), (2,), (0, 1), (0, 2), (1, 2), (0, 1, 2)]\n",
    "# vertex_df = data\n",
    "# F_P = {\n",
    "#     0: [0],\n",
    "#     1: [1],\n",
    "#     2: [2],\n",
    "# }\n",
    "# from console1 import single_subset_norm\n",
    "# from console1 import make_cube_list\n",
    "# datalist = make_cube_list(vertex_df, F_P)\n",
    "# pgd_df, r_df, scn_df = single_subset_norm(datalist, F_P)\n",
    "# residual_0 = [ 4.44089210e-16,  1.33226763e-15,  8.88178420e-16,  2.22044605e-16,\n",
    "#   2.22044605e-16 ,-6.66133815e-16 ,-2.22044605e-16 ,-2.22044605e-16,\n",
    "#   2.22044605e-16  ,6.66133815e-16  ,6.66133815e-16  ,2.22044605e-16]\n",
    "# residual_1= [ 4.4408921e-16,  5.0000000e-01, -5.0000000e-01,  5.0000000e-01,\n",
    "#  -5.0000000e-01 , 0.0000000e+00 , 5.0000000e-01 , 8.8817842e-16,\n",
    "#  -5.0000000e-01  ,5.0000000e-01 ,-5.0000000e-01, -4.4408921e-16]\n",
    "# residual_2 = [ 0.0000000e+00, -5.0000000e-01,  5.0000000e-01, -5.0000000e-01,\n",
    "#   5.0000000e-01 ,-4.4408921e-16 ,-5.0000000e-01 , 8.8817842e-16,\n",
    "#   5.0000000e-01 ,-5.0000000e-01  ,5.0000000e-01 ,-4.4408921e-16]\n",
    "# import numpy as np\n",
    "# r1, r2 ,r3 = np.array(residual_0), np.array(residual_1),  np.array(residual_2)\n",
    "# np.set_printoptions(precision=6, suppress=True)\n",
    "# print(r1)\n",
    "# print(r2)\n",
    "# print(r3)\n",
    "# print(r1+r2)\n",
    "# print(r1+r3)\n",
    "# print(r2+r3)\n",
    "# print(np.linalg.norm(r2+r3))"
   ]
  },
  {
   "cell_type": "code",
   "execution_count": 4,
   "id": "33394b05",
   "metadata": {},
   "outputs": [],
   "source": [
    "\n"
   ]
  },
  {
   "cell_type": "code",
   "execution_count": 5,
   "id": "1a708b59",
   "metadata": {},
   "outputs": [
    {
     "name": "stdout",
     "output_type": "stream",
     "text": [
      "residual_m[0][0]\n",
      "[ 4.44089210e-16  1.33226763e-15  8.88178420e-16  2.22044605e-16\n",
      "  2.22044605e-16 -6.66133815e-16 -2.22044605e-16 -2.22044605e-16\n",
      "  2.22044605e-16  6.66133815e-16  6.66133815e-16  2.22044605e-16]\n",
      "residual_m[0][1]\n",
      "[ 4.4408921e-16  5.0000000e-01 -5.0000000e-01  5.0000000e-01\n",
      " -5.0000000e-01  0.0000000e+00  5.0000000e-01  8.8817842e-16\n",
      " -5.0000000e-01  5.0000000e-01 -5.0000000e-01 -4.4408921e-16]\n",
      "residual_m[0][2]\n",
      "[ 0.0000000e+00 -5.0000000e-01  5.0000000e-01 -5.0000000e-01\n",
      "  5.0000000e-01 -4.4408921e-16 -5.0000000e-01  8.8817842e-16\n",
      "  5.0000000e-01 -5.0000000e-01  5.0000000e-01 -4.4408921e-16]\n",
      "0    1.047382e-15\n",
      "1    5.000000e-01\n",
      "2    5.000000e-01\n",
      "dtype: float64\n"
     ]
    }
   ],
   "source": [
    "\n"
   ]
  },
  {
   "cell_type": "code",
   "execution_count": 17,
   "id": "7db68294",
   "metadata": {},
   "outputs": [],
   "source": [
    "\n"
   ]
  },
  {
   "cell_type": "code",
   "execution_count": 18,
   "id": "3bc44925",
   "metadata": {},
   "outputs": [],
   "source": []
  },
  {
   "cell_type": "code",
   "execution_count": 20,
   "id": "adfffd53",
   "metadata": {},
   "outputs": [
    {
     "name": "stdout",
     "output_type": "stream",
     "text": [
      "[ 0.  0.  0.  0.  0. -0. -0. -0.  0.  0.  0.  0.]\n",
      "[ 0.   0.5 -0.5  0.5 -0.5  0.   0.5  0.  -0.5  0.5 -0.5 -0. ]\n",
      "[ 0.  -0.5  0.5 -0.5  0.5 -0.  -0.5  0.   0.5 -0.5  0.5 -0. ]\n",
      "[ 0.   0.5 -0.5  0.5 -0.5 -0.   0.5  0.  -0.5  0.5 -0.5 -0. ]\n",
      "[ 0.  -0.5  0.5 -0.5  0.5 -0.  -0.5  0.   0.5 -0.5  0.5 -0. ]\n",
      "[ 0.  0.  0.  0.  0. -0.  0.  0.  0.  0.  0. -0.]\n",
      "2.0829630293515367e-15\n"
     ]
    }
   ],
   "source": [
    "\n"
   ]
  },
  {
   "cell_type": "code",
   "execution_count": null,
   "id": "7e052bf9",
   "metadata": {},
   "outputs": [],
   "source": []
  }
 ],
 "metadata": {
  "kernelspec": {
   "display_name": "Python 3 (ipykernel)",
   "language": "python",
   "name": "python3"
  },
  "language_info": {
   "codemirror_mode": {
    "name": "ipython",
    "version": 3
   },
   "file_extension": ".py",
   "mimetype": "text/x-python",
   "name": "python",
   "nbconvert_exporter": "python",
   "pygments_lexer": "ipython3",
   "version": "3.11.9"
  }
 },
 "nbformat": 4,
 "nbformat_minor": 5
}
