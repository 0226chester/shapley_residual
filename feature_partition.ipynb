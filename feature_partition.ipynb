{
 "cells": [
  {
   "cell_type": "code",
   "execution_count": 138,
   "id": "6f8b0062-bc60-4914-9aa6-ce4587d8c2e2",
   "metadata": {
    "tags": []
   },
   "outputs": [],
   "source": [
    "import warnings\n",
    "import itertools\n",
    "import pickle\n",
    "import copy\n",
    "import math\n",
    "import bisect\n",
    "import torch\n",
    "import json\n",
    "import numpy as np\n",
    "import pandas as pd\n",
    "import torch.nn as nn\n",
    "from transformers import BertModel\n",
    "from itertools import combinations\n",
    "from sklearn.preprocessing import StandardScaler\n",
    "from torch.utils.data import DataLoader, TensorDataset\n",
    "\n",
    "\n",
    "feature_partition = {\n",
    "    0: [0,1],\n",
    "    1: [2,3],\n",
    "    2: [4,5,6,7,8,9,10,11],\n",
    "    3: [12,13],\n",
    "}"
   ]
  },
  {
   "cell_type": "code",
   "execution_count": 204,
   "id": "2621ca76-1d32-4e99-9202-75dcd0fb22c1",
   "metadata": {
    "tags": []
   },
   "outputs": [],
   "source": [
    "def generate_partition(f_part):  #input a dict\n",
    "    setnum = len(f_part)  #子集數\n",
    "    num_set = [i for i in range(setnum)]  #子集數list\n",
    "    cardlist = [len(i) for i in f_part.values()]  #各子集cardinality\n",
    "    f_list = [i for i in f_part.values()]  #list of list\n",
    "    all_subsets = []\n",
    "    for r in range(setnum+1):\n",
    "        for s in combinations(num_set, r):\n",
    "            tmp = []\n",
    "            for t in s:\n",
    "                tmp.extend(f_list[t])\n",
    "            all_subsets.append(np.array(sorted(tmp)))\n",
    "    # Create a hash table to store the index of each subset\n",
    "    subset_index_table = {}\n",
    "    for index, value in enumerate(all_subsets):\n",
    "        subset_index_table[tuple(value)] = index\n",
    "    return all_subsets, subset_index_table, len(all_subsets)\n"
   ]
  },
  {
   "cell_type": "code",
   "execution_count": 220,
   "id": "a5660c2f-3bf4-4af0-8b4c-1ee53c3e6077",
   "metadata": {
    "tags": []
   },
   "outputs": [],
   "source": [
    "class Hypercube_wpart:\n",
    "    '''\n",
    "    A class to create a hypercube object which stores values of vertices\n",
    "    '''    \n",
    "    #輸入維度\n",
    "    def __init__(self, partition):   #input a dict\n",
    "        self.f_part = partition\n",
    "        self.n_dim = len(self.f_part)\n",
    "        self.elem_count = sum([len(i) for i in self.f_part.values()])\n",
    "        # vertex_values is a dictionary to store the value of each vertex.\n",
    "        # Because np.array is not hashable, we use tuple to represent the vertex.\n",
    "        self.vertex_values = {}\n",
    "        self.vertices, self.vertex_index, self.vertex_num = generate_partition(self.f_part)  #vertex 上的value一次考慮整個subset\n",
    "        self.edges, self.edge_num = self.build_edges()\n",
    "        self.differential_matrix = None\n",
    "        self.weight_matrix = None\n",
    "        self.generate_min_l2_norm_matrix()\n",
    "    \n",
    "    def build_edges(self):\n",
    "        num_set = [i for i in range(self.n_dim)]  #子集數list\n",
    "        s_set = set(num_set)  #轉集合\n",
    "        cardlist = [len(i) for i in self.f_part.values()]  #各子集cardinality\n",
    "        f_list = [i for i in self.f_part.values()]  #list of list\n",
    "        #print(f'Receive {f_list}')\n",
    "        s_subset = set(tuple(i) for i in f_list)\n",
    "        edges = []\n",
    "        for r in range(self.n_dim): \n",
    "            for v in combinations(num_set, r):\n",
    "                v_set = set(v)\n",
    "                adjunct_v = s_set - v_set\n",
    "                for new_elem in adjunct_v:\n",
    "                    d_set = v_set | {new_elem}\n",
    "                    outlist, inlist = [],[]                    \n",
    "                    for k in v_set:\n",
    "                        outlist.extend(f_list[k])\n",
    "                    for l in d_set:\n",
    "                        inlist.extend(f_list[l])\n",
    "                    edges.append(((np.array(sorted(outlist))),np.array(sorted(inlist))))\n",
    "        return edges, len(edges)\n",
    "    \n",
    "    def get_elements(self, index):\n",
    "        return tuple(self.f_part[index])\n",
    "\n",
    "    def set_vertex_values(self, vertex_values):         #設置點值\n",
    "        for v in vertex_values:                         #用鍵值來做查找\n",
    "            self.vertex_values[v] = vertex_values[v]\n",
    "        \n",
    "    def does_edge_exist(self, v1, v2):\n",
    "        if abs(len(v1)-len(v2))==1:\n",
    "            interset = np.intersect1d(v1,v2)\n",
    "            smaller = v1 if len(v1)<len(v2) else v2\n",
    "            return True if np.array_equal(smaller, interset) else False\n",
    "        else:\n",
    "            return False\n",
    "    \n",
    "    # Establish the matrix A in the above formula: AX-Y\n",
    "    def generate_differential_matrix(self):\n",
    "        if self.differential_matrix is None:\n",
    "            self.differential_matrix = np.zeros((self.edge_num+1, self.vertex_num))\n",
    "            for i,v_pair in enumerate(self.edges):\n",
    "                j = self.vertex_index[tuple(v_pair[1])]\n",
    "                k = self.vertex_index[tuple(v_pair[0])]\n",
    "                self.differential_matrix[i][j] = 1\n",
    "                self.differential_matrix[i][k] = -1\n",
    "            # Add one more equestion that x_0 = 0 into the matrix form\n",
    "            self.differential_matrix[-1][0]=1\n",
    "        return self.differential_matrix\n",
    "\n",
    "    # Pre-calcuate \"W=(A^T*A)^-1*A^T\" for the formula \"X = ((A^T*A)^-1*A^T)*Y\n",
    "    def generate_min_l2_norm_matrix(self):\n",
    "        matrix_A = self.generate_differential_matrix()\n",
    "        matrix_A_T = np.transpose(matrix_A)\n",
    "        self.weight_matrix = np.linalg.inv(matrix_A_T @ matrix_A) @ matrix_A_T\n",
    "\n",
    "    def get_gradient_vector(self):\n",
    "        gradient_vector = np.zeros(self.edge_num)\n",
    "        for i,v_pair in enumerate(self.edges):\n",
    "            gradient_vector[i] = self.vertex_values[tuple(v_pair[1])]-self.vertex_values[tuple(v_pair[0])]    \n",
    "        return gradient_vector      \n",
    "        \n",
    "    def get_partial_gradient_vector(self,subset_i):  #feature->subset\n",
    "        feature_i = self.get_elements(subset_i)\n",
    "        partial_gradient_vector = np.zeros(self.edge_num)\n",
    "        for i,v_pair in enumerate(self.edges):\n",
    "            if (not set(feature_i).issubset(set(v_pair[0]))) and (set(feature_i).issubset(set(v_pair[1]))):\n",
    "                partial_gradient_vector[i] = self.vertex_values[tuple(v_pair[1])]-self.vertex_values[tuple(v_pair[0])]    \n",
    "        return partial_gradient_vector\n",
    "    \n",
    "    def resolve_vi(self, subset_i, phi_0=0):  #feature->subset\n",
    "        pd = self.get_partial_gradient_vector(subset_i)\n",
    "        # Append equation x_0=0 at the end of partial gradient vector.\n",
    "        pd = np.append(pd, phi_0)\n",
    "        vi = self.weight_matrix @ pd\n",
    "        # Reconstruct the vertex values\n",
    "        new_vertices = {}\n",
    "        for i,v in enumerate(self.vertices):\n",
    "            new_vertices[tuple(v)] = vi[i]\n",
    "        return vi, new_vertices"
   ]
  },
  {
   "cell_type": "code",
   "execution_count": 194,
   "id": "e4675049-3f7c-49ad-926d-b23b99df8e9f",
   "metadata": {
    "tags": []
   },
   "outputs": [
    {
     "name": "stdout",
     "output_type": "stream",
     "text": [
      "4\n",
      "14\n",
      "[array([], dtype=float64), array([0, 1]), array([2, 3]), array([ 4,  5,  6,  7,  8,  9, 10, 11]), array([12, 13]), array([0, 1, 2, 3]), array([ 0,  1,  4,  5,  6,  7,  8,  9, 10, 11]), array([ 0,  1, 12, 13]), array([ 2,  3,  4,  5,  6,  7,  8,  9, 10, 11]), array([ 2,  3, 12, 13]), array([ 4,  5,  6,  7,  8,  9, 10, 11, 12, 13]), array([ 0,  1,  2,  3,  4,  5,  6,  7,  8,  9, 10, 11]), array([ 0,  1,  2,  3, 12, 13]), array([ 0,  1,  4,  5,  6,  7,  8,  9, 10, 11, 12, 13]), array([ 2,  3,  4,  5,  6,  7,  8,  9, 10, 11, 12, 13]), array([ 0,  1,  2,  3,  4,  5,  6,  7,  8,  9, 10, 11, 12, 13])]\n",
      "[(array([], dtype=float64), array([0, 1])), (array([], dtype=float64), array([2, 3])), (array([], dtype=float64), array([ 4,  5,  6,  7,  8,  9, 10, 11])), (array([], dtype=float64), array([12, 13])), (array([0, 1]), array([0, 1, 2, 3])), (array([0, 1]), array([ 0,  1,  4,  5,  6,  7,  8,  9, 10, 11])), (array([0, 1]), array([ 0,  1, 12, 13])), (array([2, 3]), array([0, 1, 2, 3])), (array([2, 3]), array([ 2,  3,  4,  5,  6,  7,  8,  9, 10, 11])), (array([2, 3]), array([ 2,  3, 12, 13])), (array([ 4,  5,  6,  7,  8,  9, 10, 11]), array([ 0,  1,  4,  5,  6,  7,  8,  9, 10, 11])), (array([ 4,  5,  6,  7,  8,  9, 10, 11]), array([ 2,  3,  4,  5,  6,  7,  8,  9, 10, 11])), (array([ 4,  5,  6,  7,  8,  9, 10, 11]), array([ 4,  5,  6,  7,  8,  9, 10, 11, 12, 13])), (array([12, 13]), array([ 0,  1, 12, 13])), (array([12, 13]), array([ 2,  3, 12, 13])), (array([12, 13]), array([ 4,  5,  6,  7,  8,  9, 10, 11, 12, 13])), (array([0, 1, 2, 3]), array([ 0,  1,  2,  3,  4,  5,  6,  7,  8,  9, 10, 11])), (array([0, 1, 2, 3]), array([ 0,  1,  2,  3, 12, 13])), (array([ 0,  1,  4,  5,  6,  7,  8,  9, 10, 11]), array([ 0,  1,  2,  3,  4,  5,  6,  7,  8,  9, 10, 11])), (array([ 0,  1,  4,  5,  6,  7,  8,  9, 10, 11]), array([ 0,  1,  4,  5,  6,  7,  8,  9, 10, 11, 12, 13])), (array([ 0,  1, 12, 13]), array([ 0,  1,  2,  3, 12, 13])), (array([ 0,  1, 12, 13]), array([ 0,  1,  4,  5,  6,  7,  8,  9, 10, 11, 12, 13])), (array([ 2,  3,  4,  5,  6,  7,  8,  9, 10, 11]), array([ 0,  1,  2,  3,  4,  5,  6,  7,  8,  9, 10, 11])), (array([ 2,  3,  4,  5,  6,  7,  8,  9, 10, 11]), array([ 2,  3,  4,  5,  6,  7,  8,  9, 10, 11, 12, 13])), (array([ 2,  3, 12, 13]), array([ 0,  1,  2,  3, 12, 13])), (array([ 2,  3, 12, 13]), array([ 2,  3,  4,  5,  6,  7,  8,  9, 10, 11, 12, 13])), (array([ 4,  5,  6,  7,  8,  9, 10, 11, 12, 13]), array([ 0,  1,  4,  5,  6,  7,  8,  9, 10, 11, 12, 13])), (array([ 4,  5,  6,  7,  8,  9, 10, 11, 12, 13]), array([ 2,  3,  4,  5,  6,  7,  8,  9, 10, 11, 12, 13])), (array([ 0,  1,  2,  3,  4,  5,  6,  7,  8,  9, 10, 11]), array([ 0,  1,  2,  3,  4,  5,  6,  7,  8,  9, 10, 11, 12, 13])), (array([ 0,  1,  2,  3, 12, 13]), array([ 0,  1,  2,  3,  4,  5,  6,  7,  8,  9, 10, 11, 12, 13])), (array([ 0,  1,  4,  5,  6,  7,  8,  9, 10, 11, 12, 13]), array([ 0,  1,  2,  3,  4,  5,  6,  7,  8,  9, 10, 11, 12, 13])), (array([ 2,  3,  4,  5,  6,  7,  8,  9, 10, 11, 12, 13]), array([ 0,  1,  2,  3,  4,  5,  6,  7,  8,  9, 10, 11, 12, 13]))]\n"
     ]
    }
   ],
   "source": [
    "ab = Hypercube_wpart(feature_partition)\n",
    "print(ab.n_dim)\n",
    "print(ab.elem_count)\n",
    "print(ab.vertices)\n",
    "print(ab.edges)"
   ]
  },
  {
   "cell_type": "code",
   "execution_count": 180,
   "id": "c8a8060a-9847-4f86-baad-cb729bfabf02",
   "metadata": {
    "tags": []
   },
   "outputs": [
    {
     "name": "stdout",
     "output_type": "stream",
     "text": [
      "partial gradient of subset 1: [0. 0. 0. 0. 0. 0. 0. 0. 2. 0. 2. 0.]\n",
      "argmin vi: [ 4.4408921e-16  8.8817842e-16  5.0000000e-01 -5.0000000e-01\n",
      "  5.0000000e-01 -5.0000000e-01  1.0000000e+00  1.0000000e+00]\n",
      "{(): 4.440892098500626e-16, (0, 1): 8.881784197001252e-16, (2,): 0.5000000000000004, (3, 4, 5): -0.5, (0, 1, 2): 0.5000000000000004, (0, 1, 3, 4, 5): -0.4999999999999991, (2, 3, 4, 5): 1.0000000000000009, (0, 1, 2, 3, 4, 5): 1.0000000000000004}\n",
      "gradient of vi: [ 4.4408921e-16  5.0000000e-01 -5.0000000e-01  5.0000000e-01\n",
      " -5.0000000e-01  0.0000000e+00  5.0000000e-01  8.8817842e-16\n",
      "  1.5000000e+00  5.0000000e-01  1.5000000e+00 -4.4408921e-16]\n",
      "residual: [ 4.4408921e-16  5.0000000e-01 -5.0000000e-01  5.0000000e-01\n",
      " -5.0000000e-01  0.0000000e+00  5.0000000e-01  8.8817842e-16\n",
      " -5.0000000e-01  5.0000000e-01 -5.0000000e-01 -4.4408921e-16]\n"
     ]
    }
   ],
   "source": [
    "testdict = {\n",
    "    0: [0,1],\n",
    "    1: [2],\n",
    "    2: [3,4,5],\n",
    "}\n",
    "\n",
    "subset_i = 1\n",
    "\n",
    "hyper = Hypercube_wpart(testdict)\n",
    "vertices = {}\n",
    "subsets, idx, _ = generate_partition(testdict)\n",
    "\n",
    "values = [0,1,0,0,1,1,2,3]\n",
    "for v in subsets:\n",
    "    vertices[tuple(v)] = values.pop(0)\n",
    "hyper.set_vertex_values(vertices)\n",
    "\n",
    "pd = hyper.get_partial_gradient_vector(subset_i)\n",
    "print(f'partial gradient of subset {subset_i}:', pd)\n",
    "vi, new_vs = hyper.resolve_vi(subset_i)\n",
    "print(f'argmin vi:',vi)\n",
    "print(new_vs)\n",
    "\n",
    "h1 = Hypercube_wpart(testdict)\n",
    "h1.set_vertex_values(new_vs)\n",
    "dvi = h1.get_gradient_vector()\n",
    "print('gradient of vi:',dvi)\n",
    "print('residual:',dvi-pd)"
   ]
  },
  {
   "cell_type": "code",
   "execution_count": 224,
   "id": "d01a5a5d-b3ec-4017-ba81-0f654811302f",
   "metadata": {
    "tags": []
   },
   "outputs": [
    {
     "name": "stdout",
     "output_type": "stream",
     "text": [
      "[array([], dtype=float64), array([0, 3]), array([1, 4]), array([2]), array([0, 1, 3, 4]), array([0, 2, 3]), array([1, 2, 4]), array([0, 1, 2, 3, 4])]\n",
      "{(): 0, (0, 3): 1, (1, 4): 2, (2,): 3, (0, 1, 3, 4): 4, (0, 2, 3): 5, (1, 2, 4): 6, (0, 1, 2, 3, 4): 7}\n",
      "partial gradient of subset 1: [0. 0. 0. 0. 0. 0. 0. 0. 2. 0. 2. 0.]\n",
      "argmin vi: [ 4.4408921e-16  8.8817842e-16  5.0000000e-01 -5.0000000e-01\n",
      "  5.0000000e-01 -5.0000000e-01  1.0000000e+00  1.0000000e+00]\n",
      "{(): 4.440892098500626e-16, (0, 3): 8.881784197001252e-16, (1, 4): 0.5000000000000004, (2,): -0.5, (0, 1, 3, 4): 0.5000000000000004, (0, 2, 3): -0.4999999999999991, (1, 2, 4): 1.0000000000000009, (0, 1, 2, 3, 4): 1.0000000000000004}\n",
      "gradient of vi: [ 4.4408921e-16  5.0000000e-01 -5.0000000e-01  5.0000000e-01\n",
      " -5.0000000e-01  0.0000000e+00  5.0000000e-01  8.8817842e-16\n",
      "  1.5000000e+00  5.0000000e-01  1.5000000e+00 -4.4408921e-16]\n",
      "residual: [ 4.4408921e-16  5.0000000e-01 -5.0000000e-01  5.0000000e-01\n",
      " -5.0000000e-01  0.0000000e+00  5.0000000e-01  8.8817842e-16\n",
      " -5.0000000e-01  5.0000000e-01 -5.0000000e-01 -4.4408921e-16]\n"
     ]
    }
   ],
   "source": [
    "testdict = {\n",
    "    0: [0,3],\n",
    "    1: [1,4],\n",
    "    2: [2],\n",
    "}\n",
    "\n",
    "subset_i = 1\n",
    "subsets, idx, _ = generate_partition(testdict)\n",
    "print(subsets)\n",
    "print(idx)\n",
    "hyper = Hypercube_wpart(testdict)\n",
    "vertices = {}\n",
    "\n",
    "\n",
    "values = [0,1,0,0,1,1,2,3]\n",
    "for v in subsets:\n",
    "    vertices[tuple(v)] = values.pop(0)\n",
    "hyper.set_vertex_values(vertices)\n",
    "\n",
    "pd = hyper.get_partial_gradient_vector(subset_i)\n",
    "print(f'partial gradient of subset {subset_i}:', pd)\n",
    "vi, new_vs = hyper.resolve_vi(subset_i)\n",
    "print(f'argmin vi:',vi)\n",
    "print(new_vs)\n",
    "\n",
    "h1 = Hypercube_wpart(testdict)\n",
    "h1.set_vertex_values(new_vs)\n",
    "dvi = h1.get_gradient_vector()\n",
    "print('gradient of vi:',dvi)\n",
    "print('residual:',dvi-pd)"
   ]
  },
  {
   "cell_type": "code",
   "execution_count": null,
   "id": "a47936be-da7b-4abc-b707-dcb3f299662b",
   "metadata": {},
   "outputs": [],
   "source": []
  }
 ],
 "metadata": {
  "kernelspec": {
   "display_name": "Python 3 (ipykernel)",
   "language": "python",
   "name": "python3"
  },
  "language_info": {
   "codemirror_mode": {
    "name": "ipython",
    "version": 3
   },
   "file_extension": ".py",
   "mimetype": "text/x-python",
   "name": "python",
   "nbconvert_exporter": "python",
   "pygments_lexer": "ipython3",
   "version": "3.11.7"
  }
 },
 "nbformat": 4,
 "nbformat_minor": 5
}
